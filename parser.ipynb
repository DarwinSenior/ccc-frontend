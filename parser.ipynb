{
 "metadata": {
  "name": "",
  "signature": "sha256:ec46cbd7d5e16eff1cff98fcf68d96c2f2cc5a18eccdbfb9f623a390f82865e0"
 },
 "nbformat": 3,
 "nbformat_minor": 0,
 "worksheets": [
  {
   "cells": [
    {
     "cell_type": "code",
     "collapsed": false,
     "input": [
      "!git add parser.ipynb\n",
      "!git commit -m \"whatever\"\n",
      "!git push"
     ],
     "language": "python",
     "metadata": {},
     "outputs": [
      {
       "output_type": "stream",
       "stream": "stdout",
       "text": [
        "[master 432fd33] whatever\r\n",
        " 1 file changed, 91 insertions(+), 2 deletions(-)\r\n"
       ]
      },
      {
       "output_type": "stream",
       "stream": "stdout",
       "text": [
        "warning: push.default is unset; its implicit value is changing in\r\n",
        "Git 2.0 from 'matching' to 'simple'. To squelch this message\r\n",
        "and maintain the current behavior after the default changes, use:\r\n",
        "\r\n",
        "  git config --global push.default matching\r\n",
        "\r\n",
        "To squelch this message and adopt the new behavior now, use:\r\n",
        "\r\n",
        "  git config --global push.default simple\r\n",
        "\r\n",
        "When push.default is set to 'matching', git will push local branches\r\n",
        "to the remote branches that already exist with the same name.\r\n",
        "\r\n",
        "In Git 2.0, Git will default to the more conservative 'simple'\r\n",
        "behavior, which only pushes the current branch to the corresponding\r\n",
        "remote branch that 'git pull' uses to update the current branch.\r\n",
        "\r\n",
        "See 'git help config' and search for 'push.default' for further information.\r\n",
        "(the 'simple' mode was introduced in Git 1.7.11. Use the similar mode\r\n",
        "'current' instead of 'simple' if you sometimes use older versions of Git)\r\n",
        "\r\n"
       ]
      },
      {
       "output_type": "stream",
       "stream": "stdout",
       "text": [
        "Counting objects: 5, done.\r\n",
        "Delta compression using up to 4 threads.\r\n",
        "Compressing objects:  33% (1/3)   \r",
        "Compressing objects:  66% (2/3)   \r",
        "Compressing objects: 100% (3/3)   \r",
        "Compressing objects: 100% (3/3), done.\r\n",
        "Writing objects:  33% (1/3)   \r",
        "Writing objects:  66% (2/3)   \r",
        "Writing objects: 100% (3/3)   \r",
        "Writing objects: 100% (3/3), 1.26 KiB | 0 bytes/s, done.\r\n",
        "Total 3 (delta 1), reused 0 (delta 0)\r\n"
       ]
      },
      {
       "output_type": "stream",
       "stream": "stdout",
       "text": [
        "To git@github.com:DarwinSenior/ccc-frontend.git\r\n",
        "   3efdfe6..432fd33  master -> master\r\n"
       ]
      }
     ],
     "prompt_number": 3
    },
    {
     "cell_type": "code",
     "collapsed": false,
     "input": [
      "from bs4 import BeautifulSoup\n",
      "import urllib2\n",
      "\n",
      "xml_string = urllib2.urlopen('http://courses.illinois.edu/cisapp/explorer/schedule.xml')\n",
      "xml_string = xml_string.read()\n",
      "soup = BeautifulSoup(xml_string)\n",
      "\n",
      "for link in soup.find_all('calendarYear'):\n",
      "    print(link.get('href'))\n",
      "print soup"
     ],
     "language": "python",
     "metadata": {},
     "outputs": [
      {
       "output_type": "stream",
       "stream": "stdout",
       "text": [
        "<html><body><ns2:schedule xmlns:ns2=\"http://rest.cis.illinois.edu\"><label>Calendar Years</label><calendaryears><calendaryear href=\"http://courses.illinois.edu/cisapp/explorer/schedule/2015.xml\" id=\"2015\">2015</calendaryear><calendaryear href=\"http://courses.illinois.edu/cisapp/explorer/schedule/2014.xml\" id=\"2014\">2014</calendaryear><calendaryear href=\"http://courses.illinois.edu/cisapp/explorer/schedule/2013.xml\" id=\"2013\">2013</calendaryear><calendaryear href=\"http://courses.illinois.edu/cisapp/explorer/schedule/2012.xml\" id=\"2012\">2012</calendaryear><calendaryear href=\"http://courses.illinois.edu/cisapp/explorer/schedule/2011.xml\" id=\"2011\">2011</calendaryear><calendaryear href=\"http://courses.illinois.edu/cisapp/explorer/schedule/2010.xml\" id=\"2010\">2010</calendaryear><calendaryear href=\"http://courses.illinois.edu/cisapp/explorer/schedule/2009.xml\" id=\"2009\">2009</calendaryear><calendaryear href=\"http://courses.illinois.edu/cisapp/explorer/schedule/2008.xml\" id=\"2008\">2008</calendaryear><calendaryear href=\"http://courses.illinois.edu/cisapp/explorer/schedule/2007.xml\" id=\"2007\">2007</calendaryear><calendaryear href=\"http://courses.illinois.edu/cisapp/explorer/schedule/2006.xml\" id=\"2006\">2006</calendaryear><calendaryear href=\"http://courses.illinois.edu/cisapp/explorer/schedule/2005.xml\" id=\"2005\">2005</calendaryear><calendaryear href=\"http://courses.illinois.edu/cisapp/explorer/schedule/2004.xml\" id=\"2004\">2004</calendaryear></calendaryears></ns2:schedule></body></html>\n"
       ]
      }
     ],
     "prompt_number": 2
    }
   ],
   "metadata": {}
  }
 ]
}