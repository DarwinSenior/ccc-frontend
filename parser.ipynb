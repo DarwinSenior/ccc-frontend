{
 "metadata": {
  "name": "",
  "signature": "sha256:84d196f65a62154070b4324b1e2fd27aff70e2bc9d66090a787dab67559611a9"
 },
 "nbformat": 3,
 "nbformat_minor": 0,
 "worksheets": [
  {
   "cells": [
    {
     "cell_type": "code",
     "collapsed": false,
     "input": [
      "!git add parser.ipynb\n",
      "!git commit -m \"new stuff\"\n",
      "!git push"
     ],
     "language": "python",
     "metadata": {},
     "outputs": [
      {
       "output_type": "stream",
       "stream": "stdout",
       "text": [
        "[master 48a4dfa] new stuff\r\n",
        " 1 file changed, 90 insertions(+), 5 deletions(-)\r\n"
       ]
      },
      {
       "output_type": "stream",
       "stream": "stdout",
       "text": [
        "warning: push.default is unset; its implicit value is changing in\r\n",
        "Git 2.0 from 'matching' to 'simple'. To squelch this message\r\n",
        "and maintain the current behavior after the default changes, use:\r\n",
        "\r\n",
        "  git config --global push.default matching\r\n",
        "\r\n",
        "To squelch this message and adopt the new behavior now, use:\r\n",
        "\r\n",
        "  git config --global push.default simple\r\n",
        "\r\n",
        "When push.default is set to 'matching', git will push local branches\r\n",
        "to the remote branches that already exist with the same name.\r\n",
        "\r\n",
        "In Git 2.0, Git will default to the more conservative 'simple'\r\n",
        "behavior, which only pushes the current branch to the corresponding\r\n",
        "remote branch that 'git pull' uses to update the current branch.\r\n",
        "\r\n",
        "See 'git help config' and search for 'push.default' for further information.\r\n",
        "(the 'simple' mode was introduced in Git 1.7.11. Use the similar mode\r\n",
        "'current' instead of 'simple' if you sometimes use older versions of Git)\r\n",
        "\r\n"
       ]
      },
      {
       "output_type": "stream",
       "stream": "stdout",
       "text": [
        "Counting objects: 5, done.\r\n",
        "Delta compression using up to 4 threads.\r\n",
        "Compressing objects:  33% (1/3)   \r",
        "Compressing objects:  66% (2/3)   \r",
        "Compressing objects: 100% (3/3)   \r",
        "Compressing objects: 100% (3/3), done.\r\n",
        "Writing objects:  33% (1/3)   \r",
        "Writing objects:  66% (2/3)   \r",
        "Writing objects: 100% (3/3)   \r",
        "Writing objects: 100% (3/3), 1.52 KiB | 0 bytes/s, done.\r\n",
        "Total 3 (delta 1), reused 0 (delta 0)\r\n"
       ]
      },
      {
       "output_type": "stream",
       "stream": "stdout",
       "text": [
        "To git@github.com:DarwinSenior/ccc-frontend.git\r\n",
        "   979ce3b..48a4dfa  master -> master\r\n"
       ]
      }
     ],
     "prompt_number": 52
    },
    {
     "cell_type": "code",
     "collapsed": false,
     "input": [
      "from bs4 import BeautifulSoup\n",
      "import urllib2\n",
      "\n",
      "xml_string = urllib2.urlopen('http://courses.illinois.edu/cisapp/explorer/schedule.xml')\n",
      "xml_string = xml_string.read()\n",
      "soup = BeautifulSoup(xml_string, 'xml')\n",
      "# term = {\"Spring\" : \"CS\",\n",
      "#         \"Fall\" : \"ECE\",\n",
      "#         }\n",
      "# catalog= {\"2015\" : term,\n",
      "#           \"2014\" : term,}\n",
      "\n",
      "# print catalog\n",
      "term = {}\n",
      "catalog = {}\n",
      "subject = []\n",
      "for link in soup.find_all('calendarYear')[0:1]:\n",
      "    xml_string1 = urllib2.urlopen(link.get('href'))\n",
      "    xml_string1 = xml_string1.read()\n",
      "    soup1 = BeautifulSoup(xml_string1, 'xml')\n",
      "    for link1 in soup1.find_all('term'):\n",
      "        xml_string2 = urllib2.urlopen(link1.get('href'))\n",
      "        xml_string2 = xml_string2.read()\n",
      "        soup2 = BeautifulSoup(xml_string2, 'xml')\n",
      "        for link2 in soup2.find_all('subject'):\n",
      "            subject.append(link2.string)\n",
      "        term = {link1.string: subject}\n",
      "    catalog = {link.string: term}\n",
      "    print catalog\n",
      "        "
     ],
     "language": "python",
     "metadata": {},
     "outputs": [
      {
       "output_type": "stream",
       "stream": "stdout",
       "text": [
        "{u'2015': {u'Summer 2015': [u'Asian American Studies', u'Agricultural and Biological Engineering', u'Accountancy', u'Agricultural and Consumer Economics', u'Agricultural, Consumer and Environmental Sciences', u'Advertising', u'Aerospace Engineering', u'Air Force Aerospace Studies', u'African American Studies', u'African Studies', u'Agricultural Communications', u'Agricultural Education', u'Applied Health Sciences Courses', u'American Indian Studies', u'Animal Sciences', u'Anthropology', u'Arabic', u'Architecture', u'Art', u'Art--Design', u'Art--Education', u'Art--Foundation', u'Art--History', u'Art--Studio', u'Asian Studies', u'Astronomy', u'Atmospheric Sciences', u'Aviation', u'Business Administration', u'Basque', u'Bosnian-Croatian-Serbian', u'Biochemistry', u'Bioengineering', u'Biology', u'Biophysics', u'Bamana', u'Business and Technical Writing', u'Bulgarian', u'Business', u'Center for Advanced Study', u'Catalan', u'Comparative Biosciences', u'Cell and Developmental Biology', u'Civil and Environmental Engineering', u'Chemical and Biomolecular Engineering', u'Chemistry', u'Chinese', u'Community Health', u'Campus Honors Program Courses', u'Curriculum and Instruction', u'Committee on Inst Cooperation', u'Classical Civilization', u'Communication', u'Crop Sciences', u'Computer Science', u'Computational Science and Engineering', u'Creative Writing', u'Comparative and World Literature', u'Czech', u'Dance', u'East Asian Language and Culture', u'Electrical and Computer Engineering', u'Economics', u'Educational Practice', u'Education', u'English as an International Language', u'Engineering', u'Engineering Honors', u'English', u'Environmental Sustainability', u'Entomology', u'Environmental Studies', u'Educational Organization and Leadership', u'Educational Policy Studies', u'Educational Psychology', u'Earth, Society, and Environment', u'English as a Second Language', u'European Union Studies', u'Fine and Applied Arts', u'Finance', u'French', u'Food Science and Human Nutrition', u'Graduate College', u'General Engineering', u'Geography', u'Geology', u'German', u'Global Studies', u'Germanic', u'Greek', u'Modern Greek', u'General Studies', u\"Gender and Women's Studies\", u'Human and Community Development', u'Human Dimensions of Environmental Systems', u'Human Development and Family Studies', u'Hebrew, Modern and Classical', u'History', u'Hindi', u'Horticulture', u'Human Resource Development', u'Human Resource Education', u'Humanities Courses', u'Integrative Biology', u'Industrial Engineering', u'i-Health Program', u'Informatics', u'Italian', u'Japanese', u'Journalism', u'Jewish Studies', u'Kinesiology', u'Korean', u'Landscape Architecture', u'Liberal Arts and Sciences', u'Latin American and Caribbean Studies', u'Latin', u'Law', u'Labor and Employment Relations', u'Lingala', u'Linguistics', u'Library and Information Science', u'Latina/Latino Studies', u'Media and Cinema Studies', u'Mathematics', u'Regular MBA Program Administration', u'Molecular and Cell Biology', u'Media', u'Medieval Studies', u'Mechanical Engineering', u'Microbiology', u'Military Science', u'Molecular and Integrative Physiology', u'Materials Science and Engineering', u'Medical Scholars Program', u'Music', u'Museum Studies', u'Neuroscience', u'Nuclear, Plasma, and Radiological Engineering', u'Natural Resources and Environmental Sciences', u'Naval Science', u'Nutritional Sciences', u'Pathobiology', u'Plant Biology', u'Persian', u'Philosophy', u'Physics', u'Plant Pathology', u'Polish', u'Portuguese', u'Political Science', u\"Professional Science Master's Program\", u'Psychology', u'Russian, East European and Eurasian Studies', u'Rehabilitation Counseling', u'Rhetoric and Composition', u'Religious Studies', u'Romance Linguistics', u'Rural Sociology', u'Recreation, Sport, and Tourism', u'Russian', u'South Asian and Middle Eastern Studies', u'Scandinavian', u'Speech and Hearing Science', u'Slavic', u'Literatures, Cultures, and Linguistics', u'Second Language Studies', u'Sanskrit', u'Sociology', u'Social Work', u'Spanish', u'Special Education', u'Statistics', u'Swahili', u'Theoretical and Applied Mechanics', u'Technology Entrepreneurship', u'Theatre', u'Technology and Management Courses', u'Translation Studies', u'Technical Systems Management', u'Turkish', u'Ukrainian', u'Urban and Regional Planning', u'Veterinary Clinical Medicine', u'Veterinary Medicine Courses', u'Wolof', u'Writing Studies', u'Yiddish', u'Zulu', u'Asian American Studies', u'Agricultural and Biological Engineering', u'Accountancy', u'Agricultural and Consumer Economics', u'Agricultural, Consumer and Environmental Sciences', u'Advertising', u'Aerospace Engineering', u'Air Force Aerospace Studies', u'African American Studies', u'African Studies', u'Agricultural Communications', u'Agricultural Education', u'Applied Health Sciences Courses', u'American Indian Studies', u'Animal Sciences', u'Anthropology', u'Arabic', u'Architecture', u'Art', u'Art--Design', u'Art--Education', u'Art--Foundation', u'Art--History', u'Art--Studio', u'Asian Studies', u'Astronomy', u'Atmospheric Sciences', u'Aviation', u'Business Administration', u'Basque', u'Bosnian-Croatian-Serbian', u'Biochemistry', u'Bioengineering', u'Biology', u'Biophysics', u'Bamana', u'Business and Technical Writing', u'Bulgarian', u'Business', u'Center for Advanced Study', u'Catalan', u'Comparative Biosciences', u'Cell and Developmental Biology', u'Civil and Environmental Engineering', u'Chemical and Biomolecular Engineering', u'Chemistry', u'Chinese', u'Community Health', u'Campus Honors Program Courses', u'Curriculum and Instruction', u'Committee on Inst Cooperation', u'Classical Civilization', u'Communication', u'Crop Sciences', u'Computer Science', u'Computational Science and Engineering', u'Creative Writing', u'Comparative and World Literature', u'Czech', u'Dance', u'East Asian Language and Culture', u'Electrical and Computer Engineering', u'Economics', u'Educational Practice', u'Education', u'English as an International Language', u'Engineering', u'Engineering Honors', u'English', u'Environmental Sustainability', u'Entomology', u'Environmental Studies', u'Educational Organization and Leadership', u'Educational Policy Studies', u'Educational Psychology', u'Earth, Society, and Environment', u'English as a Second Language', u'European Union Studies', u'Fine and Applied Arts', u'Finance', u'French', u'Food Science and Human Nutrition', u'Graduate College', u'General Engineering', u'Geography', u'Geology', u'German', u'Global Studies', u'Germanic', u'Greek', u'Modern Greek', u'General Studies', u\"Gender and Women's Studies\", u'Human and Community Development', u'Human Dimensions of Environmental Systems', u'Human Development and Family Studies', u'Hebrew, Modern and Classical', u'History', u'Hindi', u'Horticulture', u'Human Resource Development', u'Human Resource Education', u'Humanities Courses', u'Integrative Biology', u'Industrial Engineering', u'i-Health Program', u'Informatics', u'Italian', u'Japanese', u'Journalism', u'Jewish Studies', u'Kinesiology', u'Korean', u'Landscape Architecture', u'Liberal Arts and Sciences', u'Latin American and Caribbean Studies', u'Latin', u'Law', u'Labor and Employment Relations', u'Lingala', u'Linguistics', u'Library and Information Science', u'Latina/Latino Studies', u'Media and Cinema Studies', u'Mathematics', u'Regular MBA Program Administration', u'Molecular and Cell Biology', u'Media', u'Medieval Studies', u'Mechanical Engineering', u'Microbiology', u'Military Science', u'Molecular and Integrative Physiology', u'Materials Science and Engineering', u'Medical Scholars Program', u'Music', u'Museum Studies', u'Neuroscience', u'Nuclear, Plasma, and Radiological Engineering', u'Natural Resources and Environmental Sciences', u'Naval Science', u'Nutritional Sciences', u'Pathobiology', u'Plant Biology', u'Persian', u'Philosophy', u'Physics', u'Plant Pathology', u'Polish', u'Portuguese', u'Political Science', u\"Professional Science Master's Program\", u'Psychology', u'Russian, East European and Eurasian Studies', u'Rehabilitation Counseling', u'Rhetoric and Composition', u'Religious Studies', u'Romance Linguistics', u'Rural Sociology', u'Recreation, Sport, and Tourism', u'Russian', u'South Asian and Middle Eastern Studies', u'Scandinavian', u'Speech and Hearing Science', u'Slavic', u'Literatures, Cultures, and Linguistics', u'Second Language Studies', u'Sanskrit', u'Sociology', u'Social Work', u'Spanish', u'Special Education', u'Statistics', u'Swahili', u'Theoretical and Applied Mechanics', u'Technology Entrepreneurship', u'Theatre', u'Technology and Management Courses', u'Translation Studies', u'Technical Systems Management', u'Turkish', u'Ukrainian', u'Urban and Regional Planning', u'Veterinary Clinical Medicine', u'Veterinary Medicine Courses', u'Wolof', u'Writing Studies', u'Yiddish', u'Zulu']}}\n"
       ]
      }
     ],
     "prompt_number": 90
    },
    {
     "cell_type": "code",
     "collapsed": false,
     "input": [],
     "language": "python",
     "metadata": {},
     "outputs": [],
     "prompt_number": 64
    },
    {
     "cell_type": "code",
     "collapsed": false,
     "input": [],
     "language": "python",
     "metadata": {},
     "outputs": []
    }
   ],
   "metadata": {}
  }
 ]
}