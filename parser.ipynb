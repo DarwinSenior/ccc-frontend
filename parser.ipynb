{
 "metadata": {
  "name": "",
  "signature": "sha256:a63428bc2209d91d0f81b3d8413cda141900515ed546109eac73539b9ef87892"
 },
 "nbformat": 3,
 "nbformat_minor": 0,
 "worksheets": [
  {
   "cells": [
    {
     "cell_type": "code",
     "collapsed": false,
     "input": [
      "!git add parser.ipynb\n",
      "!git commit -m \"more saves\"\n",
      "!git push"
     ],
     "language": "python",
     "metadata": {},
     "outputs": [
      {
       "output_type": "stream",
       "stream": "stdout",
       "text": [
        "[master 6e4d2b2] more saves\r\n",
        " 1 file changed, 18 insertions(+), 13 deletions(-)\r\n"
       ]
      },
      {
       "output_type": "stream",
       "stream": "stdout",
       "text": [
        "warning: push.default is unset; its implicit value is changing in\r\n",
        "Git 2.0 from 'matching' to 'simple'. To squelch this message\r\n",
        "and maintain the current behavior after the default changes, use:\r\n",
        "\r\n",
        "  git config --global push.default matching\r\n",
        "\r\n",
        "To squelch this message and adopt the new behavior now, use:\r\n",
        "\r\n",
        "  git config --global push.default simple\r\n",
        "\r\n",
        "When push.default is set to 'matching', git will push local branches\r\n",
        "to the remote branches that already exist with the same name.\r\n",
        "\r\n",
        "In Git 2.0, Git will default to the more conservative 'simple'\r\n",
        "behavior, which only pushes the current branch to the corresponding\r\n",
        "remote branch that 'git pull' uses to update the current branch.\r\n",
        "\r\n",
        "See 'git help config' and search for 'push.default' for further information.\r\n",
        "(the 'simple' mode was introduced in Git 1.7.11. Use the similar mode\r\n",
        "'current' instead of 'simple' if you sometimes use older versions of Git)\r\n",
        "\r\n"
       ]
      },
      {
       "output_type": "stream",
       "stream": "stdout",
       "text": [
        "Counting objects: 5, done.\r\n",
        "Delta compression using up to 4 threads.\r\n",
        "Compressing objects:  33% (1/3)   \r",
        "Compressing objects:  66% (2/3)   \r",
        "Compressing objects: 100% (3/3)   \r",
        "Compressing objects: 100% (3/3), done.\r\n",
        "Writing objects:  33% (1/3)   \r",
        "Writing objects:  66% (2/3)   \r",
        "Writing objects: 100% (3/3)   \r",
        "Writing objects: 100% (3/3), 579 bytes | 0 bytes/s, done.\r\n",
        "Total 3 (delta 2), reused 0 (delta 0)\r\n"
       ]
      },
      {
       "output_type": "stream",
       "stream": "stdout",
       "text": [
        "To git@github.com:DarwinSenior/ccc-frontend.git\r\n",
        "   00699f5..6e4d2b2  master -> master\r\n"
       ]
      }
     ],
     "prompt_number": 121
    },
    {
     "cell_type": "code",
     "collapsed": false,
     "input": [
      "from bs4 import BeautifulSoup\n",
      "import urllib2\n",
      "\n",
      "xml_string = urllib2.urlopen('http://courses.illinois.edu/cisapp/explorer/schedule.xml')\n",
      "xml_string = xml_string.read()\n",
      "soup = BeautifulSoup(xml_string, 'xml')\n",
      "\n",
      "\n",
      "catalog = {}\n",
      "\n",
      "for link in soup.find_all('calendarYear'):\n",
      "    xml_string1 = urllib2.urlopen(link.get('href'))\n",
      "    xml_string1 = xml_string1.read()\n",
      "    soup1 = BeautifulSoup(xml_string1, 'xml')\n",
      "    term = {}\n",
      "    for link1 in soup1.find_all('term'):\n",
      "        xml_string2 = urllib2.urlopen(link1.get('href'))\n",
      "        xml_string2 = xml_string2.read()\n",
      "        soup2 = BeautifulSoup(xml_string2, 'xml')\n",
      "        subject = []\n",
      "        for link2 in soup2.find_all('subject')[0:1]:\n",
      "            #subject = []\n",
      "            subject.append(link2.string)\n",
      "        #term = {link1.string: subject}\n",
      "        term[link1.string] = subject\n",
      "    \n",
      "    catalog[link.string] = term\n",
      "\n",
      "print catalog\n",
      "        "
     ],
     "language": "python",
     "metadata": {},
     "outputs": [
      {
       "output_type": "stream",
       "stream": "stdout",
       "text": [
        "{u'2006': {u'Spring 2006': [u'Asian American Studies'], u'Fall 2006': [u'Asian American Studies'], u'Summer 2006': [u'Asian American Studies']}, u'2007': {u'Spring 2007': [u'Asian American Studies'], u'Summer 2007': [u'Asian American Studies'], u'Fall 2007': [u'Asian American Studies']}, u'2004': {u'Fall 2004': [u'Asian American Studies']}, u'2005': {u'Spring 2005': [u'Asian American Studies'], u'Fall 2005': [u'Asian American Studies'], u'Summer 2005': [u'Asian American Studies']}, u'2015': {u'Spring 2015': [u'Asian American Studies'], u'Summer 2015': [u'Asian American Studies']}, u'2014': {u'Spring 2014': [u'Asian American Studies'], u'Summer 2014': [u'Asian American Studies'], u'Fall 2014': [u'Asian American Studies']}, u'2008': {u'Summer 2008': [u'Asian American Studies'], u'Fall 2008': [u'Asian American Studies'], u'Spring 2008': [u'Asian American Studies']}, u'2009': {u'Fall 2009': [u'Asian American Studies'], u'Spring 2009': [u'Asian American Studies'], u'Summer 2009': [u'Asian American Studies']}, u'2011': {u'Fall 2011': [u'Asian American Studies'], u'Summer 2011': [u'Asian American Studies'], u'Spring 2011': [u'Asian American Studies']}, u'2010': {u'Fall 2010': [u'Asian American Studies'], u'Summer 2010': [u'Asian American Studies'], u'Spring 2010': [u'Asian American Studies']}, u'2013': {u'Summer 2013': [u'Asian American Studies'], u'Fall 2013': [u'Asian American Studies'], u'Spring 2013': [u'Asian American Studies']}, u'2012': {u'Fall 2012': [u'Asian American Studies'], u'Spring 2012': [u'Asian American Studies'], u'Summer 2012': [u'Asian American Studies']}}\n"
       ]
      }
     ],
     "prompt_number": 135
    },
    {
     "cell_type": "code",
     "collapsed": false,
     "input": [],
     "language": "python",
     "metadata": {},
     "outputs": [],
     "prompt_number": 64
    },
    {
     "cell_type": "code",
     "collapsed": false,
     "input": [],
     "language": "python",
     "metadata": {},
     "outputs": []
    }
   ],
   "metadata": {}
  }
 ]
}