{
 "metadata": {
  "name": "",
  "signature": "sha256:2db3e6d4b4a5bafadb19bfdf940e01511363b8d65d2d40783888bbc0e387b2d6"
 },
 "nbformat": 3,
 "nbformat_minor": 0,
 "worksheets": [
  {
   "cells": [
    {
     "cell_type": "code",
     "collapsed": false,
     "input": [
      "!git add parser.ipynb\n",
      "!git commit -m \"more saves\"\n",
      "!git push"
     ],
     "language": "python",
     "metadata": {},
     "outputs": [
      {
       "output_type": "stream",
       "stream": "stdout",
       "text": [
        "[master 9430576] more saves\r\n",
        " 1 file changed, 154 insertions(+), 159 deletions(-)\r\n",
        " rewrite parser.ipynb (70%)\r\n"
       ]
      },
      {
       "output_type": "stream",
       "stream": "stdout",
       "text": [
        "warning: push.default is unset; its implicit value is changing in\r\n",
        "Git 2.0 from 'matching' to 'simple'. To squelch this message\r\n",
        "and maintain the current behavior after the default changes, use:\r\n",
        "\r\n",
        "  git config --global push.default matching\r\n",
        "\r\n",
        "To squelch this message and adopt the new behavior now, use:\r\n",
        "\r\n",
        "  git config --global push.default simple\r\n",
        "\r\n",
        "When push.default is set to 'matching', git will push local branches\r\n",
        "to the remote branches that already exist with the same name.\r\n",
        "\r\n",
        "In Git 2.0, Git will default to the more conservative 'simple'\r\n",
        "behavior, which only pushes the current branch to the corresponding\r\n",
        "remote branch that 'git pull' uses to update the current branch.\r\n",
        "\r\n",
        "See 'git help config' and search for 'push.default' for further information.\r\n",
        "(the 'simple' mode was introduced in Git 1.7.11. Use the similar mode\r\n",
        "'current' instead of 'simple' if you sometimes use older versions of Git)\r\n",
        "\r\n"
       ]
      },
      {
       "output_type": "stream",
       "stream": "stdout",
       "text": [
        "Counting objects: 5, done.\r\n",
        "Delta compression using up to 4 threads.\r\n",
        "Compressing objects:  33% (1/3)   \r",
        "Compressing objects:  66% (2/3)   \r",
        "Compressing objects: 100% (3/3)   \r",
        "Compressing objects: 100% (3/3), done.\r\n",
        "Writing objects:  33% (1/3)   \r",
        "Writing objects:  66% (2/3)   \r",
        "Writing objects: 100% (3/3)   \r",
        "Writing objects: 100% (3/3), 728 bytes | 0 bytes/s, done.\r\n",
        "Total 3 (delta 2), reused 0 (delta 0)\r\n"
       ]
      },
      {
       "output_type": "stream",
       "stream": "stdout",
       "text": [
        "To git@github.com:DarwinSenior/ccc-frontend.git\r\n",
        "   6e4d2b2..9430576  master -> master\r\n"
       ]
      }
     ],
     "prompt_number": 136
    },
    {
     "cell_type": "code",
     "collapsed": false,
     "input": [
      "from bs4 import BeautifulSoup\n",
      "import urllib2\n",
      "\n",
      "xml_string = urllib2.urlopen('http://courses.illinois.edu/cisapp/explorer/schedule.xml')\n",
      "xml_string = xml_string.read()\n",
      "soup = BeautifulSoup(xml_string, 'xml')\n",
      "\n",
      "\n",
      "catalog = {}\n",
      "\n",
      "for link in soup.find_all('calendarYear')[0:4]:\n",
      "    xml_string1 = urllib2.urlopen(link.get('href'))\n",
      "    xml_string1 = xml_string1.read()\n",
      "    soup1 = BeautifulSoup(xml_string1, 'xml')\n",
      "    term = {}\n",
      "    for link1 in soup1.find_all('term')[0:2]:\n",
      "        xml_string2 = urllib2.urlopen(link1.get('href'))\n",
      "        xml_string2 = xml_string2.read()\n",
      "        soup2 = BeautifulSoup(xml_string2, 'xml')\n",
      "        #subject = []\n",
      "        subject = {}\n",
      "        for link2 in soup2.find_all('subject')[0:2]:\n",
      "            \n",
      "            #subject.append(link2.string)\n",
      "            xml_string3 = urllib2.urlopen(link2.get('href'))\n",
      "            xml_string3 = xml_string3.read()\n",
      "            soup3 = BeautifulSoup(xml_string3, 'xml')\n",
      "            course = []\n",
      "            for link3 in soup3.find_all('course'):\n",
      "                course.append(link3.string)\n",
      "            subject[link2.string] = course\n",
      "        #term = {link1.string: subject}\n",
      "        term[link1.string] = subject\n",
      "        \n",
      "    \n",
      "    catalog={link.string: term}\n",
      "    #catalog[link.string] = term\n",
      "\n",
      "    print catalog\n",
      "        "
     ],
     "language": "python",
     "metadata": {},
     "outputs": [
      {
       "output_type": "stream",
       "stream": "stdout",
       "text": [
        "{u'2015': {u'Spring 2015': {u'Asian American Studies': [u'Intro Asian American Studies', u'Intro to Asian Am Pop Culture', u'US Citizenship Comparatively', u'Asian American Ethnic Groups', u'Politics of Hip Hop', u'Constructing Race in America', u'Asian American History', u'Asian American Literature', u'Asian Families in America', u'Begin Topics Asian Am Studies', u'Race and Cultural Diversity', u'Asian American Politics', u'Asian American Media and Film', u'Intermed Topics Asian Am St', u'Theory and Methods in AAS', u'Youth, Culture and Society', u'Race and Cultural Critique'], u'Agricultural and Biological Engineering': [u'ABE Principles: Biological', u'Undergraduate Open Seminar', u'ABE Principles: Bioenvironment', u'ABE Principles: Bioprocessing', u'Environ Control for Buildings', u'Independent Study', u'Special Topics', u'Engrg Measurement Systems', u'Renewable Energy Systems', u'Applied Statistical Methods I', u'Statistical Methods', u'Biological Nanoengineering', u'Land & Water Resources Engrg', u'NPS Pollution Processes', u'NPS Pollution Modeling', u'Industry-Linked Design Project', u'Independent Study', u'Special Topics', u'Graduate Seminar', u'Independent Study', u'Special Topics', u'Thesis Research']}, u'Summer 2015': {u'Asian American Studies': [u'Intro Asian American Studies', u'Individual Study', u'Race and Cultural Diversity'], u'Agricultural and Biological Engineering': [u'Undergraduate Open Seminar', u'Independent Study', u'Special Topics', u'Independent Study', u'Thesis Research']}}}\n",
        "{u'2014': {u'Spring 2014': {u'Asian American Studies': [u'Intro Asian American Studies', u'Intro to Asian Am Pop Culture', u'Asian American Youth in Film', u'Politics of Hip Hop', u'Constructing Race in America', u'Asian American History', u'Asian American Literature', u'Begin Topics Asian Am Studies', u'Race and Cultural Diversity', u'Asian American Politics', u'Asian Americans & Inequalities', u'Asian American Media and Film', u'Asian Families in America', u'Commodifying Difference', u'Race, Medicine, and Society', u'Youth, Culture and Society', u'Race and Cultural Critique'], u'Agricultural and Biological Engineering': [u'ABE Principles: Biological', u'Undergraduate Open Seminar', u'ABE Principles: Bioenvironment', u'ABE Principles: Bioprocessing', u'Environ Control for Buildings', u'Independent Study', u'Engrg Measurement Systems', u'Renewable Energy Systems', u'Applied Statistical Methods I', u'Biological Nanoengineering', u'Land & Water Resources Engrg', u'Industry-Linked Design Project', u'Independent Study', u'Special Topics', u'Graduate Research II', u'Graduate Seminar', u'Independent Study', u'Special Topics', u'Thesis Research']}, u'Summer 2014': {u'Asian American Studies': [u'Individual Study', u'Race and Cultural Diversity'], u'Agricultural and Biological Engineering': [u'Undergraduate Open Seminar', u'Independent Study', u'Special Topics', u'Independent Study', u'Thesis Research']}}}"
       ]
      },
      {
       "output_type": "stream",
       "stream": "stdout",
       "text": [
        "\n",
        "{u'2013': {u'Summer 2013': {u'Asian American Studies': [u'Intro Asian American Studies', u'Individual Study', u'Race and Cultural Diversity'], u'Agricultural and Biological Engineering': [u'Undergraduate Open Seminar', u'Independent Study', u'Special Topics', u'Independent Study', u'Thesis Research']}, u'Spring 2013': {u'Asian American Studies': [u'Intro Asian American Studies', u'Intro to Asian Am Pop Culture', u'US Citizenship Comparatively', u'Asian American Youth in Film', u'Intro Asian American Theatre', u'Constructing Race in America', u'Asian American History', u'Asian American Literature', u'Individual Study', u'Begin Topics Asian Am Studies', u'Race and Cultural Diversity', u'War, Memory, and Cinema', u'Race and Mixed Race', u'Asian American Media and Film', u'Intermed Topics Asian Am St', u'Asian Families in America', u'Asian American Education', u'The Politics of Fashion', u'Adv Topics in Asian Am Studies', u'Youth, Culture and Society', u'Race and Cultural Critique'], u'Agricultural and Biological Engineering': [u'ABE Principles: Biological', u'Undergraduate Open Seminar', u'ABE Principles: Bioenvironment', u'ABE Principles: Bioprocessing', u'Environ Control for Buildings', u'Independent Study', u'Engrg Measurement Systems', u'Renewable Energy Systems', u'Applied Statistical Methods I', u'Biological Nanoengineering', u'Land & Water Resources Engrg', u'NPS Pollution Processes', u'NPS Pollution Modeling', u'Industry-Linked Design Project', u'Special Topics', u'Graduate Research II', u'Graduate Seminar', u'Independent Study', u'Special Topics', u'Thesis Research']}}}"
       ]
      },
      {
       "output_type": "stream",
       "stream": "stdout",
       "text": [
        "\n",
        "{u'2012': {u'Spring 2012': {u'Asian American Studies': [u'Intro Asian American Studies', u'Intro to Asian Am Pop Culture', u'Asian Americans and the Arts', u'US Citizenship Comparatively', u'Asian American Youth in Film', u'Constructing Race in America', u'Individual Study', u'Begin Topics Asian Am Studies', u'Race and Cultural Diversity', u'Race and Mixed Race', u'Asian American Media and Film', u'Asian Families in America', u'Asian American Education', u'Adv Topics in Asian Am Studies', u'Youth, Culture and Society', u'Asian Am Studies Seminar'], u'Agricultural and Biological Engineering': [u'ABE Principles: Biological', u'Undergraduate Open Seminar', u'ABE Principles: Bioenvironment', u'ABE Principles: Bioprocessing', u'Environ Control for Buildings', u'Independent Study', u'Engrg Measurement Systems', u'Renewable Energy Systems', u'Applied Statistical Methods I', u'Statistical Methods', u'Biological Nanoengineering', u'Land & Water Resources Engrg', u'Industry-Linked Design Project', u'Special Topics', u'Graduate Research II', u'Graduate Seminar', u'Independent Study', u'Special Topics', u'Thesis Research']}, u'Summer 2012': {u'Asian American Studies': [u'Intro Asian American Studies', u'Individual Study'], u'Agricultural and Biological Engineering': [u'Undergraduate Open Seminar', u'Independent Study', u'Special Topics', u'Independent Study', u'Thesis Research']}}}"
       ]
      },
      {
       "output_type": "stream",
       "stream": "stdout",
       "text": [
        "\n"
       ]
      }
     ],
     "prompt_number": 167
    },
    {
     "cell_type": "code",
     "collapsed": false,
     "input": [],
     "language": "python",
     "metadata": {},
     "outputs": [],
     "prompt_number": 64
    },
    {
     "cell_type": "code",
     "collapsed": false,
     "input": [],
     "language": "python",
     "metadata": {},
     "outputs": []
    }
   ],
   "metadata": {}
  }
 ]
}