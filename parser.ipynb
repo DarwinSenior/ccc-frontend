{
 "metadata": {
  "name": "",
  "signature": "sha256:eeebdeb7ca97169e13a1fb36ef87743915e803d5aa0ccc06e615297c82c612fa"
 },
 "nbformat": 3,
 "nbformat_minor": 0,
 "worksheets": [
  {
   "cells": [
    {
     "cell_type": "code",
     "collapsed": false,
     "input": [
      "!git add parser.ipynb\n",
      "!git commit -m \"whatever\"\n",
      "!git push"
     ],
     "language": "python",
     "metadata": {},
     "outputs": [
      {
       "output_type": "stream",
       "stream": "stdout",
       "text": [
        "[master 3efdfe6] whatever\r\n",
        " 1 file changed, 9 insertions(+)\r\n",
        " create mode 100644 parser.ipynb\r\n"
       ]
      },
      {
       "output_type": "stream",
       "stream": "stdout",
       "text": [
        "warning: push.default is unset; its implicit value is changing in\r\n",
        "Git 2.0 from 'matching' to 'simple'. To squelch this message\r\n",
        "and maintain the current behavior after the default changes, use:\r\n",
        "\r\n",
        "  git config --global push.default matching\r\n",
        "\r\n",
        "To squelch this message and adopt the new behavior now, use:\r\n",
        "\r\n",
        "  git config --global push.default simple\r\n",
        "\r\n",
        "When push.default is set to 'matching', git will push local branches\r\n",
        "to the remote branches that already exist with the same name.\r\n",
        "\r\n",
        "In Git 2.0, Git will default to the more conservative 'simple'\r\n",
        "behavior, which only pushes the current branch to the corresponding\r\n",
        "remote branch that 'git pull' uses to update the current branch.\r\n",
        "\r\n",
        "See 'git help config' and search for 'push.default' for further information.\r\n",
        "(the 'simple' mode was introduced in Git 1.7.11. Use the similar mode\r\n",
        "'current' instead of 'simple' if you sometimes use older versions of Git)\r\n",
        "\r\n"
       ]
      },
      {
       "output_type": "stream",
       "stream": "stdout",
       "text": [
        "Counting objects: 4, done.\r\n",
        "Delta compression using up to 4 threads.\r\n",
        "Compressing objects:  33% (1/3)   \r",
        "Compressing objects:  66% (2/3)   \r",
        "Compressing objects: 100% (3/3)   \r",
        "Compressing objects: 100% (3/3), done.\r\n",
        "Writing objects:  33% (1/3)   \r",
        "Writing objects:  66% (2/3)   \r",
        "Writing objects: 100% (3/3)   \r",
        "Writing objects: 100% (3/3), 405 bytes | 0 bytes/s, done.\r\n",
        "Total 3 (delta 1), reused 0 (delta 0)\r\n"
       ]
      },
      {
       "output_type": "stream",
       "stream": "stdout",
       "text": [
        "To git@github.com:DarwinSenior/ccc-frontend.git\r\n",
        "   bf0cc2d..3efdfe6  master -> master\r\n"
       ]
      }
     ],
     "prompt_number": 1
    },
    {
     "cell_type": "code",
     "collapsed": false,
     "input": [],
     "language": "python",
     "metadata": {},
     "outputs": []
    }
   ],
   "metadata": {}
  }
 ]
}